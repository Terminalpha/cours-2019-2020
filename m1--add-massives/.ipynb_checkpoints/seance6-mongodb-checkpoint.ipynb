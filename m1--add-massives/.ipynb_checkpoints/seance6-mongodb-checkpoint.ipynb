{
 "cells": [
  {
   "cell_type": "markdown",
   "metadata": {},
   "source": [
    "# Connexion à MongoDB sous `Python`\n",
    "\n",
    "## Présentation de `MongoDB`\n",
    "\n",
    "[MongoDB](https://www.mongodb.com/) est une base de données NoSQL distribué de type *Document Store*, qui répond à 2 objectifs : \n",
    "\n",
    "- Gérer de gros volumes ;\n",
    "- Faciliter le déploiement et d'utilisation.\n",
    "\n",
    "Les données sont des documents stockés en Binary JSON (BSON - un dérivé de JSON, qui est similaire à la manipulation de dictionnaires et de listes en python). Il y a des bases de données, regroupant des collections, dans lesquelles il y a les documents. Un des points forts est qu'il n'y a pas de schéma des documents définis en amont,contrairement à une BD relationnelle ou NoSQL de type *Column Store*.\n",
    "\n",
    "Les documents peuvent n'avoir aucun point commun entre eux. Un document contient (généralement) l'ensemble des informations, et il n'y a donc pas (ou très peu) de jointure à faire idéalement.\n"
   ]
  },
  {
   "cell_type": "markdown",
   "metadata": {},
   "source": [
    "## Utilisation générale\n",
    "\n",
    "Nous allons voir dans ce TP comment nous pouvons récupérer des données stockées dans une base [MongoDB](https://www.mongodb.com/), par le biais de la librairie [`pymongo`](https://api.mongodb.com/python/current/). Pour l'utiliser, on l'importer classiquement comme ci-dessous."
   ]
  },
  {
   "cell_type": "code",
   "execution_count": 1,
   "metadata": {},
   "outputs": [],
   "source": [
    "import pymongo"
   ]
  },
  {
   "cell_type": "markdown",
   "metadata": {},
   "source": [
    "La première opération est de créer une connexion entre `python` et *MongoDB* en utilisant la fonction `MongoClient()`. Celle-ci prend en paramètre l'adresse du serveur (*IP* et *port*). La commande ci-après permet donc de se connecter au serveur déjà vu en cours précédemment."
   ]
  },
  {
   "cell_type": "code",
   "execution_count": 2,
   "metadata": {},
   "outputs": [],
   "source": [
    "con = pymongo.MongoClient(\"mongodb://193.51.82.104:2343/\")"
   ]
  },
  {
   "cell_type": "markdown",
   "metadata": {},
   "source": [
    "Par le biais de l'objet ainsi créé (`con`), on a accès à la liste des bases de données présentes, avec la fonction `list_database_name()`."
   ]
  },
  {
   "cell_type": "code",
   "execution_count": 3,
   "metadata": {},
   "outputs": [
    {
     "data": {
      "text/plain": [
       "['admin',\n",
       " 'config',\n",
       " 'gym',\n",
       " 'horodateurs',\n",
       " 'local',\n",
       " 'medicaments',\n",
       " 'test',\n",
       " 'trafic',\n",
       " 'trafic_safe',\n",
       " 'vlsstat',\n",
       " 'world']"
      ]
     },
     "execution_count": 3,
     "metadata": {},
     "output_type": "execute_result"
    }
   ],
   "source": [
    "con.list_database_names()"
   ]
  },
  {
   "cell_type": "markdown",
   "metadata": {},
   "source": [
    "Nous allons utiliser la base `gym`. Pour choisir la base sur laquelle vous voulez travailler, il faut créer un connecteur directement à cette base."
   ]
  },
  {
   "cell_type": "code",
   "execution_count": 4,
   "metadata": {},
   "outputs": [],
   "source": [
    "db = con.gym"
   ]
  },
  {
   "cell_type": "markdown",
   "metadata": {},
   "source": [
    "L'objet `db` est doté de différentes fonctions. Une base de données est constitué d’une ou plusieurs collections. Chacune de celles-ci contient un ensemble de documents. Pour voir la liste des collections présentes, on utilise la fonction `list_collection_names()`."
   ]
  },
  {
   "cell_type": "code",
   "execution_count": 5,
   "metadata": {},
   "outputs": [
    {
     "data": {
      "text/plain": [
       "['Sportifs', 'Gymnases']"
      ]
     },
     "execution_count": 5,
     "metadata": {},
     "output_type": "execute_result"
    }
   ],
   "source": [
    "db.list_collection_names()"
   ]
  },
  {
   "cell_type": "markdown",
   "metadata": {},
   "source": [
    "Vous devriez avoir une liste à deux éléments : `Gymnases` et `Sportifs`.\n",
    "\n",
    "### Fonctions de base\n",
    "\n",
    "Ensuite, pour accéder aux collections, et aux fonctions à utiliser dans celle-ci, nous utilisont un formalisme de type  `db.collection.fonction()` (car nous avons nommer le connecteur `db`) :\n",
    "\n",
    "- `db` représente la base de données choisie grâce au connecteur ;\n",
    "- `collection` représente la collection dans laquelle nous allons effectuer l'opération, et doit donc correspondre à une des collections présentes dans la base ;\n",
    "- `fonction()` détermine l'opération à effectuer sur la collection.\n",
    "\n",
    "En premier lieu, on peut dénombrer le nombre de documents de chaque collection, avec `count()`."
   ]
  },
  {
   "cell_type": "code",
   "execution_count": 6,
   "metadata": {},
   "outputs": [
    {
     "data": {
      "text/plain": [
       "150"
      ]
     },
     "execution_count": 6,
     "metadata": {},
     "output_type": "execute_result"
    }
   ],
   "source": [
    "db.Sportifs.estimated_document_count()"
   ]
  },
  {
   "cell_type": "markdown",
   "metadata": {},
   "source": [
    "Les documents présents dans une collection n’ont pas de schémas prédéfinis. Si nous souhaitons avoir une idée de ce que contient la collection, il est possible d’afficher un document (le premier trouvé), avec `find_one()`. Cette opération permet de comprendre la structure global d’un document, même s’il peut y avoir des différences entre documents."
   ]
  },
  {
   "cell_type": "code",
   "execution_count": 7,
   "metadata": {},
   "outputs": [
    {
     "data": {
      "text/plain": [
       "{'_id': '566eec5f662b388eba464203',\n",
       " 'IdSportif': 1,\n",
       " 'Nom': 'BOUTAHAR',\n",
       " 'Prenom': 'Abderahim',\n",
       " 'Sexe': 'm',\n",
       " 'Age': 30,\n",
       " 'Sports': {'Jouer': ['Volley ball', 'Tennis', 'Football'],\n",
       "  'Arbitrer': ['Basket ball', 'Volley ball', 'Hockey'],\n",
       "  'Entrainer': ['Basket ball',\n",
       "   'Volley ball',\n",
       "   'Hand ball',\n",
       "   'Hockey',\n",
       "   'Badmington']}}"
      ]
     },
     "execution_count": 7,
     "metadata": {},
     "output_type": "execute_result"
    }
   ],
   "source": [
    "db.Sportifs.find_one()"
   ]
  },
  {
   "cell_type": "code",
   "execution_count": 8,
   "metadata": {},
   "outputs": [
    {
     "data": {
      "text/plain": [
       "{'_id': '566eec69662b388eba464299',\n",
       " 'IdGymnase': 1,\n",
       " 'NomGymnase': 'PAUL ELUARD',\n",
       " 'Adresse': '2 rue des pépines',\n",
       " 'Ville': 'STAINS',\n",
       " 'Surface': 200,\n",
       " 'Seances': [{'IdSportifEntraineur': 149,\n",
       "   'Jour': 'Samedi',\n",
       "   'Horaire': 9.0,\n",
       "   'Duree': 60,\n",
       "   'Libelle': 'Basket ball'},\n",
       "  {'IdSportifEntraineur': 1,\n",
       "   'Jour': 'Lundi',\n",
       "   'Horaire': 9.0,\n",
       "   'Duree': 60,\n",
       "   'Libelle': 'Hand ball'},\n",
       "  {'IdSportifEntraineur': 1,\n",
       "   'Jour': 'Lundi',\n",
       "   'Horaire': 10.0,\n",
       "   'Duree': 60,\n",
       "   'Libelle': 'Hand ball'},\n",
       "  {'IdSportifEntraineur': 1,\n",
       "   'Jour': 'Lundi',\n",
       "   'Horaire': 11.3,\n",
       "   'Duree': 60,\n",
       "   'Libelle': 'Hand ball'},\n",
       "  {'IdSportifEntraineur': 1,\n",
       "   'Jour': 'Lundi',\n",
       "   'Horaire': 14.0,\n",
       "   'Duree': 90,\n",
       "   'Libelle': 'Hand ball'},\n",
       "  {'IdSportifEntraineur': 1,\n",
       "   'Jour': 'lundi',\n",
       "   'Horaire': 17.3,\n",
       "   'Duree': 120,\n",
       "   'Libelle': 'Hand ball'},\n",
       "  {'IdSportifEntraineur': 1,\n",
       "   'Jour': 'Lundi',\n",
       "   'Horaire': 19.3,\n",
       "   'Duree': 120,\n",
       "   'Libelle': 'Hand ball'},\n",
       "  {'IdSportifEntraineur': 2,\n",
       "   'Jour': 'Dimanche',\n",
       "   'Horaire': 17.3,\n",
       "   'Duree': 120,\n",
       "   'Libelle': 'Hand ball'},\n",
       "  {'IdSportifEntraineur': 2,\n",
       "   'Jour': 'Dimanche',\n",
       "   'Horaire': 19.3,\n",
       "   'Duree': 120,\n",
       "   'Libelle': 'Hand ball'},\n",
       "  {'IdSportifEntraineur': 2,\n",
       "   'Jour': 'mardi',\n",
       "   'Horaire': 17.3,\n",
       "   'Duree': 120,\n",
       "   'Libelle': 'Hand ball'},\n",
       "  {'IdSportifEntraineur': 2,\n",
       "   'Jour': 'mercredi',\n",
       "   'Horaire': 17.3,\n",
       "   'Duree': 120,\n",
       "   'Libelle': 'Hand ball'},\n",
       "  {'IdSportifEntraineur': 2,\n",
       "   'Jour': 'Samedi',\n",
       "   'Horaire': 15.3,\n",
       "   'Duree': 60,\n",
       "   'Libelle': 'Hand ball'},\n",
       "  {'IdSportifEntraineur': 2,\n",
       "   'Jour': 'Samedi',\n",
       "   'Horaire': 16.3,\n",
       "   'Duree': 60,\n",
       "   'Libelle': 'Hand ball'},\n",
       "  {'IdSportifEntraineur': 2,\n",
       "   'Jour': 'Samedi',\n",
       "   'Horaire': 17.3,\n",
       "   'Duree': 120,\n",
       "   'Libelle': 'Hand ball'},\n",
       "  {'IdSportifEntraineur': 3,\n",
       "   'Jour': 'jeudi',\n",
       "   'Horaire': 20.0,\n",
       "   'Duree': 30,\n",
       "   'Libelle': 'Hand ball'},\n",
       "  {'IdSportifEntraineur': 3,\n",
       "   'Jour': 'lundi',\n",
       "   'Horaire': 14.0,\n",
       "   'Duree': 60,\n",
       "   'Libelle': 'Hand ball'},\n",
       "  {'IdSportifEntraineur': 3,\n",
       "   'Jour': 'lundi',\n",
       "   'Horaire': 18.0,\n",
       "   'Duree': 30,\n",
       "   'Libelle': 'Hand ball'},\n",
       "  {'IdSportifEntraineur': 3,\n",
       "   'Jour': 'lundi',\n",
       "   'Horaire': 19.0,\n",
       "   'Duree': 30,\n",
       "   'Libelle': 'Hand ball'},\n",
       "  {'IdSportifEntraineur': 3,\n",
       "   'Jour': 'lundi',\n",
       "   'Horaire': 20.0,\n",
       "   'Duree': 30,\n",
       "   'Libelle': 'Hand ball'},\n",
       "  {'IdSportifEntraineur': 7,\n",
       "   'Jour': 'mercredi',\n",
       "   'Horaire': 17.0,\n",
       "   'Duree': 90,\n",
       "   'Libelle': 'Hockey'}]}"
      ]
     },
     "execution_count": 8,
     "metadata": {},
     "output_type": "execute_result"
    }
   ],
   "source": [
    "db.Gymnases.find_one()"
   ]
  },
  {
   "cell_type": "markdown",
   "metadata": {},
   "source": [
    "Il est possible d’inclure des critères de sélection dans cette fonction, que nous verrons dans la suite. De même pour la sélection des items à afficher.\n",
    "\n",
    "Une autre fonction très utile pour mieux appréhender les données est de lister les valeurs prises par les différents items de la collection, grâce à `distinct()`. Pour spécifier un sous-item d’un item, il est nécessaire d’utiliser le formalisme `item.sousitem`."
   ]
  },
  {
   "cell_type": "code",
   "execution_count": 9,
   "metadata": {},
   "outputs": [
    {
     "data": {
      "text/plain": [
       "['m', 'M', 'F']"
      ]
     },
     "execution_count": 9,
     "metadata": {},
     "output_type": "execute_result"
    }
   ],
   "source": [
    "db.Sportifs.distinct(\"Sexe\")"
   ]
  },
  {
   "cell_type": "code",
   "execution_count": 10,
   "metadata": {},
   "outputs": [
    {
     "data": {
      "text/plain": [
       "['Football',\n",
       " 'Tennis',\n",
       " 'Volley ball',\n",
       " 'Basket ball',\n",
       " 'Ping pong',\n",
       " 'Badmington',\n",
       " 'Hand ball']"
      ]
     },
     "execution_count": 10,
     "metadata": {},
     "output_type": "execute_result"
    }
   ],
   "source": [
    "db.Sportifs.distinct(\"Sports.Jouer\")"
   ]
  },
  {
   "cell_type": "code",
   "execution_count": 11,
   "metadata": {},
   "outputs": [
    {
     "data": {
      "text/plain": [
       "['STAINS',\n",
       " 'MONTMORENCY',\n",
       " 'PIERREFITTE',\n",
       " 'SARCELLES',\n",
       " 'SAINT DENIS',\n",
       " 'VILLETANEUSE',\n",
       " 'GARGES']"
      ]
     },
     "execution_count": 11,
     "metadata": {},
     "output_type": "execute_result"
    }
   ],
   "source": [
    "db.Gymnases.distinct(\"Ville\")"
   ]
  },
  {
   "cell_type": "code",
   "execution_count": 12,
   "metadata": {},
   "outputs": [
    {
     "data": {
      "text/plain": [
       "[200, 450, 400, 500, 620, 360, 420, 300, 480, 600, 520, 350]"
      ]
     },
     "execution_count": 12,
     "metadata": {},
     "output_type": "execute_result"
    }
   ],
   "source": [
    "db.Gymnases.distinct(\"Surface\")"
   ]
  },
  {
   "cell_type": "code",
   "execution_count": 13,
   "metadata": {},
   "outputs": [
    {
     "data": {
      "text/plain": [
       "['Basket ball', 'Hand ball', 'Hockey', 'Volley ball']"
      ]
     },
     "execution_count": 13,
     "metadata": {},
     "output_type": "execute_result"
    }
   ],
   "source": [
    "db.Gymnases.distinct(\"Seances.Libelle\")"
   ]
  },
  {
   "cell_type": "code",
   "execution_count": 14,
   "metadata": {},
   "outputs": [
    {
     "data": {
      "text/plain": [
       "['Dimanche',\n",
       " 'Lundi',\n",
       " 'Samedi',\n",
       " 'jeudi',\n",
       " 'lundi',\n",
       " 'mardi',\n",
       " 'mercredi',\n",
       " 'dimanche',\n",
       " 'Mercredi',\n",
       " 'Vendredi',\n",
       " 'vendredi',\n",
       " 'samedi',\n",
       " 'Mardi',\n",
       " 'Jeudi']"
      ]
     },
     "execution_count": 14,
     "metadata": {},
     "output_type": "execute_result"
    }
   ],
   "source": [
    "db.Gymnases.distinct(\"Seances.Jour\")"
   ]
  },
  {
   "cell_type": "markdown",
   "metadata": {},
   "source": [
    "### Affichage des résultats\n",
    "\n",
    "Nous l'avons vu précédemment, l'affichage du résultat de la fonction `find_one()` n'est pas totalement lisible. Il est possible d'utiliser la fonction `pprint()` du module `pprint`, normalement installé dès l'installation de `python`. Celle-ci améliore l'affichage, en ajoutant des indentations."
   ]
  },
  {
   "cell_type": "code",
   "execution_count": 15,
   "metadata": {},
   "outputs": [
    {
     "name": "stdout",
     "output_type": "stream",
     "text": [
      "{'Age': 30,\n",
      " 'IdSportif': 1,\n",
      " 'Nom': 'BOUTAHAR',\n",
      " 'Prenom': 'Abderahim',\n",
      " 'Sexe': 'm',\n",
      " 'Sports': {'Arbitrer': ['Basket ball', 'Volley ball', 'Hockey'],\n",
      "            'Entrainer': ['Basket ball',\n",
      "                          'Volley ball',\n",
      "                          'Hand ball',\n",
      "                          'Hockey',\n",
      "                          'Badmington'],\n",
      "            'Jouer': ['Volley ball', 'Tennis', 'Football']},\n",
      " '_id': '566eec5f662b388eba464203'}\n"
     ]
    }
   ],
   "source": [
    "import pprint\n",
    "pprint.pprint(db.Sportifs.find_one())"
   ]
  },
  {
   "cell_type": "markdown",
   "metadata": {},
   "source": [
    "Pour l'utiliser sur les résultats des différentes fonctions que nous allons découvrir, nous allons créer une fonction permettant d'utiliser cet affichage, nommée `affichage()`. Elle va prendre en paramètre le résultat de la fonction `find()`, que nous allons découvrir juste ci-dessous."
   ]
  },
  {
   "cell_type": "code",
   "execution_count": 16,
   "metadata": {},
   "outputs": [],
   "source": [
    "def affiche(res):\n",
    "    pprint.pprint(list(res))"
   ]
  },
  {
   "cell_type": "markdown",
   "metadata": {},
   "source": [
    "Et voici comment utiliser cette fonction."
   ]
  },
  {
   "cell_type": "code",
   "execution_count": 17,
   "metadata": {
    "scrolled": true
   },
   "outputs": [
    {
     "name": "stdout",
     "output_type": "stream",
     "text": [
      "[{'Nom': 'KERVADEC'}]\n"
     ]
    }
   ],
   "source": [
    "res = db.Sportifs.find({ \"Nom\": \"KERVADEC\" }, { \"_id\": 0, \"Nom\": 1 })\n",
    "affiche(res)"
   ]
  },
  {
   "cell_type": "markdown",
   "metadata": {},
   "source": [
    "## Recherche d'informations\n",
    "\n",
    "Pour faire des recherches, il existe la fonction `find()`. Sans paramètre, elle renvoie l'ensemble des documents. Il faut donc l'utiliser avec précautions. Mais celle-ci peut aussi prendre deux paramètres :\n",
    "\n",
    "- les critères de sélection des documents\n",
    "- les choix d’items des documents à afficher\n",
    "\n",
    "Dans ce premier exemple, on cherche le (ou les) conseiller s’appelant `\"KERVADEC\"`."
   ]
  },
  {
   "cell_type": "code",
   "execution_count": 18,
   "metadata": {},
   "outputs": [
    {
     "name": "stdout",
     "output_type": "stream",
     "text": [
      "[{'Age': 28,\n",
      "  'IdSportif': 2,\n",
      "  'IdSportifConseiller': 1,\n",
      "  'Nom': 'KERVADEC',\n",
      "  'Prenom': 'Yann',\n",
      "  'Sexe': 'M',\n",
      "  'Sports': {'Arbitrer': ['Hockey', 'Football'],\n",
      "             'Entrainer': ['Basket ball',\n",
      "                           'Volley ball',\n",
      "                           'Hand ball',\n",
      "                           'Tennis',\n",
      "                           'Hockey',\n",
      "                           'Badmington',\n",
      "                           'Ping pong',\n",
      "                           'Boxe'],\n",
      "             'Jouer': ['Basket ball', 'Volley ball', 'Ping pong', 'Football']},\n",
      "  '_id': '566eec5f662b388eba464204'}]\n"
     ]
    }
   ],
   "source": [
    "affiche(db.Sportifs.find({ \"Nom\": \"KERVADEC\" }))"
   ]
  },
  {
   "cell_type": "markdown",
   "metadata": {},
   "source": [
    "Si l'on désire n'afficher que certains éléments, il est possible d'ajouter un deuxième argument spécifiant les items que l'on veut (avec 1) ou qu'on ne veut pas (avec 0)."
   ]
  },
  {
   "cell_type": "code",
   "execution_count": 19,
   "metadata": {},
   "outputs": [
    {
     "name": "stdout",
     "output_type": "stream",
     "text": [
      "[{'Nom': 'KERVADEC', '_id': '566eec5f662b388eba464204'}]\n"
     ]
    }
   ],
   "source": [
    "affiche(db.Sportifs.find({ \"Nom\": \"KERVADEC\" }, { \"Nom\": 1 }))"
   ]
  },
  {
   "cell_type": "markdown",
   "metadata": {},
   "source": [
    "Par défaut, l'identifiant du document, toujours nommé `_id`, est renvoyé. Pour ne pas l'avoir, il faut ainsi le préciser avec `\"_id\": 0`."
   ]
  },
  {
   "cell_type": "code",
   "execution_count": 20,
   "metadata": {
    "scrolled": true
   },
   "outputs": [
    {
     "name": "stdout",
     "output_type": "stream",
     "text": [
      "[{'Nom': 'KERVADEC'}]\n"
     ]
    }
   ],
   "source": [
    "affiche(db.Sportifs.find({ \"Nom\": \"KERVADEC\" }, { \"_id\": 0, \"Nom\": 1 }))"
   ]
  },
  {
   "cell_type": "markdown",
   "metadata": {},
   "source": [
    "Le test d'égalité est aussi réalisable avec une variable numérique, comme ici où on cherche les sportifs de 32 ans. On voit ici un effet de `python` sur l'ordre d'affichage des items (ici, dans l'ordre alphabétique - comme toujours dans `python`)."
   ]
  },
  {
   "cell_type": "code",
   "execution_count": 21,
   "metadata": {},
   "outputs": [
    {
     "name": "stdout",
     "output_type": "stream",
     "text": [
      "[{'Age': 32, 'Nom': 'DORLEANS'},\n",
      " {'Age': 32, 'Nom': 'TIZEGHAT'},\n",
      " {'Age': 32, 'Nom': 'BAZOUD'},\n",
      " {'Age': 32, 'Nom': 'BONE'}]\n"
     ]
    }
   ],
   "source": [
    "affiche(db.Sportifs.find({ \"Age\": 32 }, { \"_id\": 0, \"Nom\": 1, \"Age\": 1 }))"
   ]
  },
  {
   "cell_type": "markdown",
   "metadata": {},
   "source": [
    "Pour les comparaisons, nous disposons des opérateurs `$eq` (equal), `$gt` (greater than), `$gte` (greater than or equal), `$lt` (less than), `$lte` (less than or equal) et `$ne` (not equal). Voici un exemple d'utilisation pour la recherche de sportifs de plus de 32 ans."
   ]
  },
  {
   "cell_type": "code",
   "execution_count": 22,
   "metadata": {},
   "outputs": [
    {
     "name": "stdout",
     "output_type": "stream",
     "text": [
      "[{'Age': 32, 'Nom': 'DORLEANS'},\n",
      " {'Age': 40, 'Nom': 'RABAHI'},\n",
      " {'Age': 32, 'Nom': 'TIZEGHAT'},\n",
      " {'Age': 32, 'Nom': 'BAZOUD'},\n",
      " {'Age': 39, 'Nom': 'SARRAZIN'},\n",
      " {'Age': 40, 'Nom': 'HOUEL'},\n",
      " {'Age': 36, 'Nom': 'LEROUX'},\n",
      " {'Age': 32, 'Nom': 'BONE'}]\n"
     ]
    }
   ],
   "source": [
    "affiche(db.Sportifs.find({ \"Age\": { \"$gte\": 32 } }, { \"_id\": 0, \"Nom\": 1, \"Age\": 1 }))"
   ]
  },
  {
   "cell_type": "markdown",
   "metadata": {},
   "source": [
    "En plus de ces comparaisons simples, nous disposons d'opérateurs de comparaisons à une liste : `$in` (présent dans la liste) et `$nin` (non présent dans la liste). Ici, nous cherchons donc les sportifs qui ont soit 32 ans, soit 39 ans."
   ]
  },
  {
   "cell_type": "code",
   "execution_count": 23,
   "metadata": {},
   "outputs": [
    {
     "name": "stdout",
     "output_type": "stream",
     "text": [
      "[{'Age': 32, 'Nom': 'DORLEANS'},\n",
      " {'Age': 32, 'Nom': 'TIZEGHAT'},\n",
      " {'Age': 32, 'Nom': 'BAZOUD'},\n",
      " {'Age': 39, 'Nom': 'SARRAZIN'},\n",
      " {'Age': 32, 'Nom': 'BONE'}]\n"
     ]
    }
   ],
   "source": [
    "affiche(db.Sportifs.find({ \"Age\": { \"$in\": [ 32, 39 ]} }, { \"_id\": 0, \"Nom\": 1, \"Age\": 1 }))"
   ]
  },
  {
   "cell_type": "markdown",
   "metadata": {},
   "source": [
    "Si l'on veut les sportifs entre 32 et 39 (compris), il faut donc coupler 2 conditions, comme ci-dessous"
   ]
  },
  {
   "cell_type": "code",
   "execution_count": 24,
   "metadata": {},
   "outputs": [
    {
     "name": "stdout",
     "output_type": "stream",
     "text": [
      "[{'Age': 32, 'Nom': 'DORLEANS'},\n",
      " {'Age': 32, 'Nom': 'TIZEGHAT'},\n",
      " {'Age': 32, 'Nom': 'BAZOUD'},\n",
      " {'Age': 39, 'Nom': 'SARRAZIN'},\n",
      " {'Age': 36, 'Nom': 'LEROUX'},\n",
      " {'Age': 32, 'Nom': 'BONE'}]\n"
     ]
    }
   ],
   "source": [
    "affiche(db.Sportifs.find({ \"Age\": { \"$gte\": 32, \"$lte\": 39 } }, { \"_id\": 0, \"Nom\": 1, \"Age\": 1 }))"
   ]
  },
  {
   "cell_type": "markdown",
   "metadata": {},
   "source": [
    "Les documents peuvent être complexes (c’est même le but), et les critères portent donc souvent sur des sous-items. Il faut utiliser le même formalisme que précédemment (`item.sousitem`). Il faut noter qu’on peut aller aussi loin que nécessaire dans l’utilisation du `\".\"`. Voici donc les 5 premiers sportifs jouant au Basket (limitation obtenue avec le paramètre `limit`).\n",
    "\n",
    "Nous voyons que le résultat inclu tous les sports joués par le sportif."
   ]
  },
  {
   "cell_type": "code",
   "execution_count": 25,
   "metadata": {},
   "outputs": [
    {
     "name": "stdout",
     "output_type": "stream",
     "text": [
      "[{'Nom': 'KERVADEC',\n",
      "  'Sexe': 'M',\n",
      "  'Sports': {'Jouer': ['Basket ball', 'Volley ball', 'Ping pong', 'Football']}},\n",
      " {'Nom': 'COMES',\n",
      "  'Sexe': 'F',\n",
      "  'Sports': {'Jouer': ['Basket ball',\n",
      "                       'Volley ball',\n",
      "                       'Badmington',\n",
      "                       'Ping pong']}},\n",
      " {'Nom': 'RETALDI',\n",
      "  'Sexe': 'F',\n",
      "  'Sports': {'Jouer': ['Basket ball',\n",
      "                       'Volley ball',\n",
      "                       'Hand ball',\n",
      "                       'Ping pong']}},\n",
      " {'Nom': 'CAILLIOT',\n",
      "  'Sexe': 'F',\n",
      "  'Sports': {'Jouer': ['Basket ball', 'Volley ball', 'Ping pong']}},\n",
      " {'Nom': 'TIENER',\n",
      "  'Sexe': 'M',\n",
      "  'Sports': {'Jouer': ['Basket ball',\n",
      "                       'Volley ball',\n",
      "                       'Hand ball',\n",
      "                       'Ping pong',\n",
      "                       'Football']}}]\n"
     ]
    }
   ],
   "source": [
    "affiche(db.Sportifs.find({ \"Sports.Jouer\" : \"Basket ball\" }, { \"_id\": 0, \"Nom\": 1, \"Sexe\": 1, \"Sports.Jouer\": 1}, limit = 5))"
   ]
  },
  {
   "cell_type": "markdown",
   "metadata": {},
   "source": [
    "Par défaut, si on ajoute des critères de restriction dans le premier paramètre, la recherche se fait avec un ET entre les critères. Nous cherchons ici les joueuses de Basket."
   ]
  },
  {
   "cell_type": "code",
   "execution_count": 26,
   "metadata": {},
   "outputs": [
    {
     "name": "stdout",
     "output_type": "stream",
     "text": [
      "[{'Nom': 'COMES'},\n",
      " {'Nom': 'RETALDI'},\n",
      " {'Nom': 'CAILLIOT'},\n",
      " {'Nom': 'LEJEUNE'},\n",
      " {'Nom': 'HEDDI'},\n",
      " {'Nom': 'JOUVE'},\n",
      " {'Nom': 'GUERRAOUI'},\n",
      " {'Nom': 'CLERICE'},\n",
      " {'Nom': 'MARIE'},\n",
      " {'Nom': 'BELZ'}]\n"
     ]
    }
   ],
   "source": [
    "affiche(db.Sportifs.find({ \"Sports.Jouer\" : \"Basket ball\", \"Sexe\": \"F\" }, { \"_id\": 0, \"Nom\": 1}))"
   ]
  },
  {
   "cell_type": "markdown",
   "metadata": {},
   "source": [
    "Mais si on veut faire des combinaisons autres, il existe des opérateurs logiques : `$and`, `$or` et `$nor`. Ces trois opérations prennent un tableau de critères comme valeur. Nous cherchons ci-dessous les sportifs soit ayant au moins 36 ans, soit de sexe féminin."
   ]
  },
  {
   "cell_type": "code",
   "execution_count": 27,
   "metadata": {},
   "outputs": [
    {
     "name": "stdout",
     "output_type": "stream",
     "text": [
      "[{'Age': 25, 'Nom': 'HUE', 'Sexe': 'F'},\n",
      " {'Age': 22, 'Nom': 'COMES', 'Sexe': 'F'},\n",
      " {'Age': 30, 'Nom': 'RETALDI', 'Sexe': 'F'},\n",
      " {'Age': 23, 'Nom': 'ANTUNES', 'Sexe': 'F'},\n",
      " {'Age': 24, 'Nom': 'CAILLIOT', 'Sexe': 'F'},\n",
      " {'Age': 25, 'Nom': 'HOSNI', 'Sexe': 'F'},\n",
      " {'Age': 23, 'Nom': 'LEJEUNE', 'Sexe': 'F'},\n",
      " {'Age': 23, 'Nom': 'MICHEL', 'Sexe': 'F'},\n",
      " {'Age': 40, 'Nom': 'RABAHI', 'Sexe': 'M'},\n",
      " {'Age': 22, 'Nom': 'ROUSSEL', 'Sexe': 'F'},\n",
      " {'Age': 25, 'Nom': 'LAZZARI', 'Sexe': 'F'},\n",
      " {'Age': 22, 'Nom': 'DELOVINA', 'Sexe': 'F'},\n",
      " {'Age': 23, 'Nom': 'MATHIEU', 'Sexe': 'F'},\n",
      " {'Age': 25, 'Nom': 'GROEN', 'Sexe': 'F'},\n",
      " {'Age': 23, 'Nom': 'HEDDI', 'Sexe': 'F'},\n",
      " {'Age': 24, 'Nom': 'JOUVE', 'Sexe': 'F'},\n",
      " {'Age': 25, 'Nom': 'GUERRAOUI', 'Sexe': 'F'},\n",
      " {'Age': 23, 'Nom': 'CLERICE', 'Sexe': 'F'},\n",
      " {'Age': 30, 'Nom': 'LANOE', 'Sexe': 'F'},\n",
      " {'Age': 26, 'Nom': 'VONTHRON', 'Sexe': 'F'},\n",
      " {'Age': 30, 'Nom': 'REGNAULD', 'Sexe': 'F'},\n",
      " {'Age': 25, 'Nom': 'MARIE', 'Sexe': 'F'},\n",
      " {'Age': 39, 'Nom': 'SARRAZIN', 'Sexe': 'F'},\n",
      " {'Age': 30, 'Nom': 'HALGATTE', 'Sexe': 'F'},\n",
      " {'Age': 30, 'Nom': 'DROULLON', 'Sexe': 'F'},\n",
      " {'Age': 40, 'Nom': 'HOUEL', 'Sexe': 'M'},\n",
      " {'Age': 36, 'Nom': 'LEROUX', 'Sexe': 'M'},\n",
      " {'Age': 30, 'Nom': 'SEHIER', 'Sexe': 'F'},\n",
      " {'Age': 22, 'Nom': 'MICHEL', 'Sexe': 'F'},\n",
      " {'Age': 30, 'Nom': 'BELUAU', 'Sexe': 'F'},\n",
      " {'Age': 30, 'Nom': 'FERREIRA', 'Sexe': 'F'},\n",
      " {'Age': 30, 'Nom': 'BECQUET', 'Sexe': 'F'},\n",
      " {'Age': 30, 'Nom': 'SWERTVAEGER', 'Sexe': 'F'},\n",
      " {'Age': 30, 'Nom': 'GALLOIS', 'Sexe': 'F'},\n",
      " {'Age': 26, 'Nom': 'LABOULAIS', 'Sexe': 'F'},\n",
      " {'Age': 26, 'Nom': 'DUDOUIT', 'Sexe': 'F'},\n",
      " {'Age': 26, 'Nom': 'MADELAINE', 'Sexe': 'F'},\n",
      " {'Age': 26, 'Nom': 'BESNARD', 'Sexe': 'F'},\n",
      " {'Age': 26, 'Nom': 'BELZ', 'Sexe': 'F'},\n",
      " {'Age': 26, 'Nom': 'BONNET', 'Sexe': 'F'},\n",
      " {'Age': 26, 'Nom': 'CORNET', 'Sexe': 'F'},\n",
      " {'Age': 26, 'Nom': 'BEUZELIN', 'Sexe': 'F'},\n",
      " {'Age': 26, 'Nom': 'GRANDIDIER', 'Sexe': 'F'},\n",
      " {'Age': 25, 'Nom': 'LENEVEU', 'Sexe': 'F'},\n",
      " {'Age': 25, 'Nom': 'CLERICE', 'Sexe': 'F'},\n",
      " {'Age': 27, 'Nom': 'COMES', 'Sexe': 'F'},\n",
      " {'Age': 27, 'Nom': 'BELZ', 'Sexe': 'F'}]\n"
     ]
    }
   ],
   "source": [
    "affiche(db.Sportifs.find({ \"$or\": [ { \"Age\" : { \"$gte\" : 36 } }, { \"Sexe\": \"F\" } ] }, \n",
    "                         { \"_id\" : 0, \"Nom\" : 1, \"Age\" : 1, \"Sexe\" : 1 }))"
   ]
  },
  {
   "cell_type": "markdown",
   "metadata": {},
   "source": [
    "Comme précédemment indiqué, il est courant qu’un document ne contienne pas tous les items possibles. Si l’on cherche à tester la présence ou non d’un item, on utilise l’opérateur `$exists` (avec `True` si on teste la présence, et `False` l’absence). Dans l'exemple qui suit, nous cherchons les sportifs qui arbitre un sport."
   ]
  },
  {
   "cell_type": "code",
   "execution_count": 28,
   "metadata": {},
   "outputs": [
    {
     "name": "stdout",
     "output_type": "stream",
     "text": [
      "[{'Nom': 'BOUTAHAR'},\n",
      " {'Nom': 'KERVADEC'},\n",
      " {'Nom': 'HUE'},\n",
      " {'Nom': 'DORLEANS'},\n",
      " {'Nom': 'COMES'},\n",
      " {'Nom': 'RETALDI'},\n",
      " {'Nom': 'GOMEZ'},\n",
      " {'Nom': 'TESTEMONT'},\n",
      " {'Nom': 'TIENER'},\n",
      " {'Nom': 'ROUSSEL'},\n",
      " {'Nom': 'VAN CAUTER'},\n",
      " {'Nom': 'TANQUE'},\n",
      " {'Nom': 'CLERICE'},\n",
      " {'Nom': 'TIZEGHAT'},\n",
      " {'Nom': 'LEROUX'},\n",
      " {'Nom': 'RICHARD'},\n",
      " {'Nom': 'STILO'},\n",
      " {'Nom': 'BELZ'},\n",
      " {'Nom': 'HENRY'}]\n"
     ]
    }
   ],
   "source": [
    "affiche(db.Sportifs.find({ \"Sports.Arbitrer\" : { \"$exists\" : True } }, { \"_id\": 0, \"Nom\": 1 }))"
   ]
  },
  {
   "cell_type": "markdown",
   "metadata": {},
   "source": [
    "Il est souvent nécessaire de faire des dénombrements en amont d'opérations, soit pour faire des vérifications de code ou des estimations de charge (ou autre). La fonction `count_documents()` peut ainsi prendre le paramètre de restriction de la fonction `find()` pour connaître la taille du résultat. Nous cherchons ici le nombre de sportifs de sexe féminin dans la base."
   ]
  },
  {
   "cell_type": "code",
   "execution_count": 29,
   "metadata": {},
   "outputs": [
    {
     "data": {
      "text/plain": [
       "44"
      ]
     },
     "execution_count": 29,
     "metadata": {},
     "output_type": "execute_result"
    }
   ],
   "source": [
    "db.Sportifs.count_documents ({ \"Sexe\" : \"F\" })"
   ]
  },
  {
   "cell_type": "markdown",
   "metadata": {},
   "source": [
    "Pour le tri, on utilise la fonction `sort()` sur le résultat. Par contre, nous devons ici mettre une liste de critères de tri. Ceux-ci doivent tous être des tuples à deux valeurs : le champ de tri et l'odre choisi (ascendant ou descendant). Pour le spécifier, nous devons utiliser deux valeurs : `-1` (pour descendant) et `1` (pour ascendant).\n",
    "\n",
    "Ici, nous reprenons la recherche des sportifs d'au moins 32 ans. Mais le résultat est trié par ordre décroissant sur l'âge, et par ordre alphabétique pour le nom (pour ceux ayant le même âge donc)."
   ]
  },
  {
   "cell_type": "code",
   "execution_count": 30,
   "metadata": {
    "scrolled": false
   },
   "outputs": [
    {
     "name": "stdout",
     "output_type": "stream",
     "text": [
      "[{'Age': 40, 'Nom': 'HOUEL'},\n",
      " {'Age': 40, 'Nom': 'RABAHI'},\n",
      " {'Age': 39, 'Nom': 'SARRAZIN'},\n",
      " {'Age': 36, 'Nom': 'LEROUX'},\n",
      " {'Age': 32, 'Nom': 'BAZOUD'},\n",
      " {'Age': 32, 'Nom': 'BONE'},\n",
      " {'Age': 32, 'Nom': 'DORLEANS'},\n",
      " {'Age': 32, 'Nom': 'TIZEGHAT'}]\n"
     ]
    }
   ],
   "source": [
    "res = db.Sportifs.find({ \"Age\": { \"$gte\": 32} }, { \"_id\": 0, \"Nom\": 1, \"Age\": 1 }).sort([ (\"Age\", -1), (\"Nom\", 1) ])\n",
    "affiche(res)"
   ]
  },
  {
   "cell_type": "markdown",
   "metadata": {},
   "source": [
    "Comme on peut le voir, il est difficile de comprendre la commande, puisque tout est sur la même ligne. Il est ainsi possible de sauter des lignes. Pour la création des dictionnaires pour les paramètres, nous l'avons déjà vu. Mais on peut aussi le faire pour l'enchaînement des fonctions, en mettant le caractère `\"\\\"` en fin de ligne, comme ci-dessous."
   ]
  },
  {
   "cell_type": "code",
   "execution_count": 31,
   "metadata": {},
   "outputs": [
    {
     "name": "stdout",
     "output_type": "stream",
     "text": [
      "[{'Age': 40, 'Nom': 'HOUEL'},\n",
      " {'Age': 40, 'Nom': 'RABAHI'},\n",
      " {'Age': 39, 'Nom': 'SARRAZIN'},\n",
      " {'Age': 36, 'Nom': 'LEROUX'},\n",
      " {'Age': 32, 'Nom': 'BAZOUD'},\n",
      " {'Age': 32, 'Nom': 'BONE'},\n",
      " {'Age': 32, 'Nom': 'DORLEANS'},\n",
      " {'Age': 32, 'Nom': 'TIZEGHAT'}]\n"
     ]
    }
   ],
   "source": [
    "res = db.Sportifs \\\n",
    "    .find({ \"Age\": { \"$gte\": 32} }, { \"_id\": 0, \"Nom\": 1, \"Age\": 1 }) \\\n",
    "    .sort([ (\"Age\", -1), (\"Nom\", 1) ])\n",
    "affiche(res)"
   ]
  },
  {
   "cell_type": "markdown",
   "metadata": {},
   "source": [
    "En combinant les 2 possibilités, on peut ainsi écrire l'instruction comme ceci :"
   ]
  },
  {
   "cell_type": "code",
   "execution_count": 32,
   "metadata": {},
   "outputs": [
    {
     "name": "stdout",
     "output_type": "stream",
     "text": [
      "[{'Age': 40, 'Nom': 'HOUEL'},\n",
      " {'Age': 40, 'Nom': 'RABAHI'},\n",
      " {'Age': 39, 'Nom': 'SARRAZIN'},\n",
      " {'Age': 36, 'Nom': 'LEROUX'},\n",
      " {'Age': 32, 'Nom': 'BAZOUD'},\n",
      " {'Age': 32, 'Nom': 'BONE'},\n",
      " {'Age': 32, 'Nom': 'DORLEANS'},\n",
      " {'Age': 32, 'Nom': 'TIZEGHAT'}]\n"
     ]
    }
   ],
   "source": [
    "res = db.Sportifs \\\n",
    "    .find({ \n",
    "        \"Age\": { \"$gte\": 32} \n",
    "        }, \n",
    "        { \n",
    "            \"_id\": 0, \n",
    "            \"Nom\": 1, \n",
    "            \"Age\": 1 \n",
    "        }) \\\n",
    "    .sort([ \n",
    "        (\"Age\", -1), \n",
    "        (\"Nom\", 1) \n",
    "    ])\n",
    "affiche(res)"
   ]
  },
  {
   "cell_type": "markdown",
   "metadata": {},
   "source": [
    "## Agrégats\n",
    "\n",
    "En plus des recherches classiques d’informations, le calcul d’agrégat est très utilisé, pour l’analyse, la modélisation ou la visualisation de données. Ce calcul s’effectue avec la fonction `aggregate()`. Celle-ci prend en paramètre un tableau d’opérations (appelé aussi `pipeline`), pouvant contenir les éléments suivants :\n",
    "\n",
    "- `$project` : redéfinition des documents (si nécessaire)\n",
    "- `$match` : restriction sur les documents à utiliser\n",
    "- `$group` : regroupements et calculs à effectuer\n",
    "- `$sort` : tri sur les agrégats\n",
    "- `$unwind` : découpage de tableaux\n",
    "- …\n",
    "\n",
    "### Regroupement\n",
    "\n",
    "Ici, nous réalisons un dénombrement (la somme de la valeur 1 pour chaque document). Nous calculons donc le nombre de gymnases."
   ]
  },
  {
   "cell_type": "code",
   "execution_count": 33,
   "metadata": {},
   "outputs": [
    {
     "name": "stdout",
     "output_type": "stream",
     "text": [
      "[{'_id': 'Total', 'nb': 28}]\n"
     ]
    }
   ],
   "source": [
    "res = db.Gymnases.aggregate([ \n",
    "    { \"$group\": { \"_id\": \"Total\", \"nb\": { \"$sum\": 1 }}}\n",
    "])\n",
    "affiche(res)"
   ]
  },
  {
   "cell_type": "markdown",
   "metadata": {},
   "source": [
    "Bien évidemment, les calculs peuvent être plus complexes. Par exemple, nous cherchons ici en plus la surface moyenne des gymnases."
   ]
  },
  {
   "cell_type": "code",
   "execution_count": 34,
   "metadata": {},
   "outputs": [
    {
     "name": "stdout",
     "output_type": "stream",
     "text": [
      "[{'_id': 'Total', 'nb': 28, 'surfmoy': 444.2857142857143}]\n"
     ]
    }
   ],
   "source": [
    "res = db.Gymnases.aggregate([ \n",
    "    { \"$group\": { \"_id\": \"Total\", \"nb\": { \"$sum\": 1 }, \"surfmoy\": { \"$avg\": \"$Surface\" }}}\n",
    "])\n",
    "affiche(res)"
   ]
  },
  {
   "cell_type": "markdown",
   "metadata": {},
   "source": [
    "Pour faire une agrégation sur un critère, on indique le champs toujours avec le symbole `\"$\"` devant. Nous avons ici, pour chaque ville, le nombre de gymnases et la surface moyenne de ceux-ci."
   ]
  },
  {
   "cell_type": "code",
   "execution_count": 35,
   "metadata": {
    "scrolled": true
   },
   "outputs": [
    {
     "name": "stdout",
     "output_type": "stream",
     "text": [
      "[{'_id': 'SAINT DENIS', 'nb': 3, 'surfaceMoyenne': 490.0},\n",
      " {'_id': 'STAINS', 'nb': 6, 'surfaceMoyenne': 333.3333333333333},\n",
      " {'_id': 'MONTMORENCY', 'nb': 5, 'surfaceMoyenne': 470.0},\n",
      " {'_id': 'GARGES', 'nb': 1, 'surfaceMoyenne': 400.0},\n",
      " {'_id': 'VILLETANEUSE', 'nb': 3, 'surfaceMoyenne': 523.3333333333334},\n",
      " {'_id': 'PIERREFITTE', 'nb': 5, 'surfaceMoyenne': 382.0},\n",
      " {'_id': 'SARCELLES', 'nb': 5, 'surfaceMoyenne': 548.0}]\n"
     ]
    }
   ],
   "source": [
    "res = db.Gymnases.aggregate([ \n",
    "    { \"$group\": { \n",
    "        \"_id\": \"$Ville\", \n",
    "        \"nb\": { \"$sum\": 1 }, \n",
    "        \"surfaceMoyenne\": { \"$avg\": \"$Surface\" }\n",
    "    }}\n",
    "])\n",
    "affiche(res)"
   ]
  },
  {
   "cell_type": "markdown",
   "metadata": {},
   "source": [
    "### Tri\n",
    "\n",
    "Ce résultat peut être trié en ajoutant l’action `$sort` dans le tableau, avec le même mécanismes que précédemment (1 : ascendant, -1 : descendant)."
   ]
  },
  {
   "cell_type": "code",
   "execution_count": 36,
   "metadata": {},
   "outputs": [
    {
     "name": "stdout",
     "output_type": "stream",
     "text": [
      "[{'_id': 'STAINS', 'nb': 6},\n",
      " {'_id': 'MONTMORENCY', 'nb': 5},\n",
      " {'_id': 'PIERREFITTE', 'nb': 5},\n",
      " {'_id': 'SARCELLES', 'nb': 5},\n",
      " {'_id': 'SAINT DENIS', 'nb': 3},\n",
      " {'_id': 'VILLETANEUSE', 'nb': 3},\n",
      " {'_id': 'GARGES', 'nb': 1}]\n"
     ]
    }
   ],
   "source": [
    "res = db.Gymnases.aggregate([ \n",
    "    { \"$group\": { \"_id\": \"$Ville\", \"nb\": { \"$sum\": 1 }}},\n",
    "    { \"$sort\": { \"nb\": -1 }}\n",
    "])\n",
    "affiche(res)"
   ]
  },
  {
   "cell_type": "markdown",
   "metadata": {},
   "source": [
    "### Restriction\n",
    "\n",
    "On peut aussi faire une restriction avant le calcul, avec l’opération `$match`. Ici, nous nous restreignons aux gymnases dans lesquels il y a (au moins) une séance de Volley."
   ]
  },
  {
   "cell_type": "code",
   "execution_count": 37,
   "metadata": {
    "scrolled": true
   },
   "outputs": [
    {
     "name": "stdout",
     "output_type": "stream",
     "text": [
      "[{'_id': 'SAINT DENIS', 'nb': 2},\n",
      " {'_id': 'MONTMORENCY', 'nb': 5},\n",
      " {'_id': 'VILLETANEUSE', 'nb': 1},\n",
      " {'_id': 'PIERREFITTE', 'nb': 3},\n",
      " {'_id': 'STAINS', 'nb': 4},\n",
      " {'_id': 'SARCELLES', 'nb': 2}]\n"
     ]
    }
   ],
   "source": [
    "res = db.Gymnases.aggregate([ \n",
    "    { \"$match\": { \"Seances.Libelle\" : \"Volley ball\" }},\n",
    "    { \"$group\": { \"_id\": \"$Ville\", \"nb\": { \"$sum\": 1 }}}\n",
    "])\n",
    "affiche(res)"
   ]
  },
  {
   "cell_type": "markdown",
   "metadata": {},
   "source": [
    "### Projection\n",
    "\n",
    "Il est aussi possible de ré-écrire les documents via la clause `$project`. Celle-ci permet de soit indiquer les champs que l'on souhaite garder (avec `\": 1\"`), soit en calculant un nouveau champs. Par exemple, ici, si nous souhaitons faire un calcul d'agrégat par sexe, la version simple n'est pas satisfaisante (`\"M\"` et `\"m\"` présents dans la base)."
   ]
  },
  {
   "cell_type": "code",
   "execution_count": 38,
   "metadata": {},
   "outputs": [
    {
     "name": "stdout",
     "output_type": "stream",
     "text": [
      "[{'_id': 'F', 'nb': 44}, {'_id': 'M', 'nb': 105}, {'_id': 'm', 'nb': 1}]\n"
     ]
    }
   ],
   "source": [
    "res = db.Sportifs.aggregate([ \n",
    "    { \"$group\": { \"_id\": \"$Sexe\", \"nb\": { \"$sum\": 1 }}}\n",
    "])\n",
    "affiche(res)"
   ]
  },
  {
   "cell_type": "markdown",
   "metadata": {},
   "source": [
    "En redéfinissant le champs `Sexe`, nous remédions à ce problème (ici, la clause `$toUpper` permet de mettre en majuscules donc)."
   ]
  },
  {
   "cell_type": "code",
   "execution_count": 39,
   "metadata": {},
   "outputs": [
    {
     "name": "stdout",
     "output_type": "stream",
     "text": [
      "[{'_id': 'F', 'nb': 44}, {'_id': 'M', 'nb': 106}]\n"
     ]
    }
   ],
   "source": [
    "res = db.Sportifs.aggregate([ \n",
    "    { \"$project\": { \"Sexe\": { \"$toUpper\": \"$Sexe\" }}},\n",
    "    { \"$group\": { \"_id\": \"$Sexe\", \"nb\": { \"$sum\": 1 }}}\n",
    "])\n",
    "affiche(res)"
   ]
  },
  {
   "cell_type": "markdown",
   "metadata": {},
   "source": [
    "### Séparation de documents\n",
    "\n",
    "Imaginons maintenant que nous souhaitons calculer le nombre de séances journalières. La première idée serait de réaliser l’opération suivante. On se limite aux 5 premiers documents (gymnases donc), à 2 séances."
   ]
  },
  {
   "cell_type": "code",
   "execution_count": 40,
   "metadata": {
    "scrolled": true
   },
   "outputs": [
    {
     "name": "stdout",
     "output_type": "stream",
     "text": [
      "[{'_id': ['Jeudi', 'mercredi'], 'nb': 1},\n",
      " {'_id': ['Mardi', 'dimanche'], 'nb': 1},\n",
      " {'_id': ['lundi', 'jeudi'], 'nb': 1},\n",
      " {'_id': ['Vendredi', 'mercredi'], 'nb': 1},\n",
      " {'_id': ['vendredi', 'jeudi'], 'nb': 1}]\n"
     ]
    }
   ],
   "source": [
    "res = db.Gymnases.aggregate([ \n",
    "    { \"$match\": { \"Seances\": { \"$size\": 2 } }},\n",
    "    { \"$limit\": 5 },\n",
    "    { \"$project\": { \"Seances\": 1 }},\n",
    "    { \"$group\": { \"_id\": \"$Seances.Jour\", \"nb\": { \"$sum\": 1 }}}\n",
    "])\n",
    "affiche(res)"
   ]
  },
  {
   "cell_type": "markdown",
   "metadata": {},
   "source": [
    "Malheureusement, nous voyons que le regroupement se fait par couple de jours existant dans la base. Il faut donc faire ce qu'on appelle un découpage des tableaux `Seances` dans chaque document. Pour cela, il existe l’opération `$unwind`.\n",
    "\n",
    "Pour montrer comment fonctionne cette opération, voici les documents obtenus lorsqu’on l’applique sur le premier gymnase à uniquement 2 séances. On s’apercoit que chaque document ne contient plus qu’une seule séance."
   ]
  },
  {
   "cell_type": "code",
   "execution_count": 41,
   "metadata": {
    "scrolled": true
   },
   "outputs": [
    {
     "name": "stdout",
     "output_type": "stream",
     "text": [
      "[{'Adresse': 'Allée J.B. Lulli',\n",
      "  'IdGymnase': 4,\n",
      "  'NomGymnase': 'PAUL ELUARD',\n",
      "  'Seances': {'Duree': 30,\n",
      "              'Horaire': 10.0,\n",
      "              'IdSportifEntraineur': 149,\n",
      "              'Jour': 'Vendredi',\n",
      "              'Libelle': 'Basket ball'},\n",
      "  'Surface': 500,\n",
      "  'Ville': 'SARCELLES',\n",
      "  '_id': '566eec69662b388eba46429c'},\n",
      " {'Adresse': 'Allée J.B. Lulli',\n",
      "  'IdGymnase': 4,\n",
      "  'NomGymnase': 'PAUL ELUARD',\n",
      "  'Seances': {'Duree': 60,\n",
      "              'Horaire': 19.0,\n",
      "              'IdSportifEntraineur': 6,\n",
      "              'Jour': 'mercredi',\n",
      "              'Libelle': 'Hockey'},\n",
      "  'Surface': 500,\n",
      "  'Ville': 'SARCELLES',\n",
      "  '_id': '566eec69662b388eba46429c'}]\n"
     ]
    }
   ],
   "source": [
    "res = db.Gymnases.aggregate([\n",
    "    { \"$match\": { \"Seances\": { \"$size\": 2 } }},\n",
    "    { \"$limit\": 1 },\n",
    "    { \"$unwind\": \"$Seances\" }\n",
    "])\n",
    "affiche(res)"
   ]
  },
  {
   "cell_type": "markdown",
   "metadata": {},
   "source": [
    "Ainsi, nous pouvons donc maintenant faire l’opération de regroupement par jour de la semaine."
   ]
  },
  {
   "cell_type": "code",
   "execution_count": 42,
   "metadata": {},
   "outputs": [
    {
     "name": "stdout",
     "output_type": "stream",
     "text": [
      "[{'_id': 'Mardi', 'nb': 1},\n",
      " {'_id': 'samedi', 'nb': 5},\n",
      " {'_id': 'vendredi', 'nb': 5},\n",
      " {'_id': 'Dimanche', 'nb': 3},\n",
      " {'_id': 'dimanche', 'nb': 14},\n",
      " {'_id': 'lundi', 'nb': 14},\n",
      " {'_id': 'mardi', 'nb': 7},\n",
      " {'_id': 'mercredi', 'nb': 12},\n",
      " {'_id': 'Samedi', 'nb': 4},\n",
      " {'_id': 'jeudi', 'nb': 5},\n",
      " {'_id': 'Mercredi', 'nb': 1},\n",
      " {'_id': 'Jeudi', 'nb': 1},\n",
      " {'_id': 'Lundi', 'nb': 9},\n",
      " {'_id': 'Vendredi', 'nb': 1}]\n"
     ]
    }
   ],
   "source": [
    "res = db.Gymnases.aggregate([\n",
    "    { \"$unwind\": \"$Seances\" }, \n",
    "    { \"$group\": { \"_id\": \"$Seances.Jour\", \"nb\": { \"$sum\": 1 }} }\n",
    "])\n",
    "affiche(res)"
   ]
  },
  {
   "cell_type": "markdown",
   "metadata": {},
   "source": [
    "### Combinaison\n",
    "\n",
    "On peut utiliser les commandes `unwind`, `project` et `sort` pour réaliser des calculs d'agrégats complexes. Ici, nous cherchons le nombre total de séances par jour, ceux-ci étant triés dans l'ordre décroissant du nombre de séances."
   ]
  },
  {
   "cell_type": "code",
   "execution_count": 43,
   "metadata": {},
   "outputs": [
    {
     "name": "stdout",
     "output_type": "stream",
     "text": [
      "[{'_id': 'lundi', 'nb': 23},\n",
      " {'_id': 'dimanche', 'nb': 17},\n",
      " {'_id': 'mercredi', 'nb': 13},\n",
      " {'_id': 'samedi', 'nb': 9},\n",
      " {'_id': 'mardi', 'nb': 8},\n",
      " {'_id': 'vendredi', 'nb': 6},\n",
      " {'_id': 'jeudi', 'nb': 6}]\n"
     ]
    }
   ],
   "source": [
    "res = db.Gymnases.aggregate([\n",
    "    { \"$unwind\": \"$Seances\" }, \n",
    "    { \"$project\": { \"Jour\": { \"$toLower\": \"$Seances.Jour\" } }},\n",
    "    { \"$group\": { \"_id\": \"$Jour\", \"nb\": { \"$sum\": 1 }} },\n",
    "    { \"$sort\": { \"nb\": -1 }}\n",
    "])\n",
    "affiche(res)"
   ]
  },
  {
   "cell_type": "markdown",
   "metadata": {},
   "source": [
    "## Importation dans un `DataFrame`\n",
    "\n",
    "Pour pouvoir utiliser les données recherchées, nous pouvons les transformer en `DataFrame` (de type `pandas`). Pour cela, nous les transformons en `list`, puis en `DataFrame`, comme dans l'exemple ci-dessous."
   ]
  },
  {
   "cell_type": "code",
   "execution_count": 44,
   "metadata": {},
   "outputs": [],
   "source": [
    "import pandas\n",
    "\n",
    "res = db.Sportifs.find()\n",
    "df = pandas.DataFrame(list(res))"
   ]
  },
  {
   "cell_type": "markdown",
   "metadata": {},
   "source": [
    "Quand on regarde le `DataFrame` obtenu, nous remarquons que pour certains colonnes (`Sports` ici), le contenu est un objet complexe (un dictionnaire en l'occurence ici)."
   ]
  },
  {
   "cell_type": "code",
   "execution_count": 45,
   "metadata": {},
   "outputs": [
    {
     "data": {
      "text/html": [
       "<div>\n",
       "<style scoped>\n",
       "    .dataframe tbody tr th:only-of-type {\n",
       "        vertical-align: middle;\n",
       "    }\n",
       "\n",
       "    .dataframe tbody tr th {\n",
       "        vertical-align: top;\n",
       "    }\n",
       "\n",
       "    .dataframe thead th {\n",
       "        text-align: right;\n",
       "    }\n",
       "</style>\n",
       "<table border=\"1\" class=\"dataframe\">\n",
       "  <thead>\n",
       "    <tr style=\"text-align: right;\">\n",
       "      <th></th>\n",
       "      <th>_id</th>\n",
       "      <th>IdSportif</th>\n",
       "      <th>Nom</th>\n",
       "      <th>Prenom</th>\n",
       "      <th>Sexe</th>\n",
       "      <th>Age</th>\n",
       "      <th>Sports</th>\n",
       "      <th>IdSportifConseiller</th>\n",
       "    </tr>\n",
       "  </thead>\n",
       "  <tbody>\n",
       "    <tr>\n",
       "      <th>0</th>\n",
       "      <td>566eec5f662b388eba464203</td>\n",
       "      <td>1</td>\n",
       "      <td>BOUTAHAR</td>\n",
       "      <td>Abderahim</td>\n",
       "      <td>m</td>\n",
       "      <td>30</td>\n",
       "      <td>{'Jouer': ['Volley ball', 'Tennis', 'Football'...</td>\n",
       "      <td>NaN</td>\n",
       "    </tr>\n",
       "    <tr>\n",
       "      <th>1</th>\n",
       "      <td>566eec5f662b388eba464204</td>\n",
       "      <td>2</td>\n",
       "      <td>KERVADEC</td>\n",
       "      <td>Yann</td>\n",
       "      <td>M</td>\n",
       "      <td>28</td>\n",
       "      <td>{'Jouer': ['Basket ball', 'Volley ball', 'Ping...</td>\n",
       "      <td>1.0</td>\n",
       "    </tr>\n",
       "    <tr>\n",
       "      <th>2</th>\n",
       "      <td>566eec5f662b388eba464205</td>\n",
       "      <td>3</td>\n",
       "      <td>HUE</td>\n",
       "      <td>Pascale</td>\n",
       "      <td>F</td>\n",
       "      <td>25</td>\n",
       "      <td>{'Jouer': ['Volley ball', 'Ping pong'], 'Arbit...</td>\n",
       "      <td>1.0</td>\n",
       "    </tr>\n",
       "    <tr>\n",
       "      <th>3</th>\n",
       "      <td>566eec5f662b388eba464206</td>\n",
       "      <td>4</td>\n",
       "      <td>DORLEANS</td>\n",
       "      <td>Jean-michel</td>\n",
       "      <td>M</td>\n",
       "      <td>32</td>\n",
       "      <td>{'Jouer': ['Volley ball', 'Football'], 'Arbitr...</td>\n",
       "      <td>1.0</td>\n",
       "    </tr>\n",
       "    <tr>\n",
       "      <th>4</th>\n",
       "      <td>566eec5f662b388eba464207</td>\n",
       "      <td>5</td>\n",
       "      <td>COMES</td>\n",
       "      <td>Sylvie</td>\n",
       "      <td>F</td>\n",
       "      <td>22</td>\n",
       "      <td>{'Jouer': ['Basket ball', 'Volley ball', 'Badm...</td>\n",
       "      <td>1.0</td>\n",
       "    </tr>\n",
       "  </tbody>\n",
       "</table>\n",
       "</div>"
      ],
      "text/plain": [
       "                        _id  IdSportif       Nom       Prenom Sexe  Age  \\\n",
       "0  566eec5f662b388eba464203          1  BOUTAHAR    Abderahim    m   30   \n",
       "1  566eec5f662b388eba464204          2  KERVADEC         Yann    M   28   \n",
       "2  566eec5f662b388eba464205          3       HUE      Pascale    F   25   \n",
       "3  566eec5f662b388eba464206          4  DORLEANS  Jean-michel    M   32   \n",
       "4  566eec5f662b388eba464207          5     COMES       Sylvie    F   22   \n",
       "\n",
       "                                              Sports  IdSportifConseiller  \n",
       "0  {'Jouer': ['Volley ball', 'Tennis', 'Football'...                  NaN  \n",
       "1  {'Jouer': ['Basket ball', 'Volley ball', 'Ping...                  1.0  \n",
       "2  {'Jouer': ['Volley ball', 'Ping pong'], 'Arbit...                  1.0  \n",
       "3  {'Jouer': ['Volley ball', 'Football'], 'Arbitr...                  1.0  \n",
       "4  {'Jouer': ['Basket ball', 'Volley ball', 'Badm...                  1.0  "
      ]
     },
     "execution_count": 45,
     "metadata": {},
     "output_type": "execute_result"
    }
   ],
   "source": [
    "df.head()"
   ]
  },
  {
   "cell_type": "markdown",
   "metadata": {},
   "source": [
    "Nous récupérons ici le premier sportif dans l'objet `df0`."
   ]
  },
  {
   "cell_type": "code",
   "execution_count": 46,
   "metadata": {},
   "outputs": [],
   "source": [
    "df0 = df.loc[0,:]"
   ]
  },
  {
   "cell_type": "markdown",
   "metadata": {},
   "source": [
    "Avec cet objet, nous accédons aux sports qu'il joue/entraîne/arbitre comme suit."
   ]
  },
  {
   "cell_type": "code",
   "execution_count": 47,
   "metadata": {},
   "outputs": [
    {
     "data": {
      "text/plain": [
       "{'Jouer': ['Volley ball', 'Tennis', 'Football'],\n",
       " 'Arbitrer': ['Basket ball', 'Volley ball', 'Hockey'],\n",
       " 'Entrainer': ['Basket ball',\n",
       "  'Volley ball',\n",
       "  'Hand ball',\n",
       "  'Hockey',\n",
       "  'Badmington']}"
      ]
     },
     "execution_count": 47,
     "metadata": {},
     "output_type": "execute_result"
    }
   ],
   "source": [
    "df0.Sports"
   ]
  },
  {
   "cell_type": "markdown",
   "metadata": {},
   "source": [
    "Pour obtenir le tableau des sports joués (par exemple), nous le récupérons avec le code suivant."
   ]
  },
  {
   "cell_type": "code",
   "execution_count": 48,
   "metadata": {},
   "outputs": [
    {
     "data": {
      "text/plain": [
       "['Volley ball', 'Tennis', 'Football']"
      ]
     },
     "execution_count": 48,
     "metadata": {},
     "output_type": "execute_result"
    }
   ],
   "source": [
    "df0.Sports[\"Jouer\"]"
   ]
  },
  {
   "cell_type": "markdown",
   "metadata": {},
   "source": [
    "## A faire\n",
    "\n",
    "### Base de données `gym`\n",
    "\n",
    "Répondre aux questions suivantes\n",
    "\n",
    "01. Quels sont les sportifs (identifiant, nom et prénom) qui ont entre 20 et 30 ans ?\n",
    "02. Quels sont les gymnases de \"Villetaneuse\" ou de \"Sarcelles\" qui ont une surface de plus de 400 m2 ?\n",
    "03. Quels sont les sportifs (identifiant et nom) qui pratiquent du hand ball ?\n",
    "04. Dans quels gymnases et quels jours y a t-il des séances de hand ball ?\n",
    "05. Dans quels gymnases peut-on jouer au hockey le mercredi apres 15H ?\n",
    "06. Quels sportifs (identifiant et nom) ne pratiquent aucun sport ?\n",
    "07. Quels gymnases n'ont pas de séances le dimanche ?\n",
    "09. Quels sont les entraîneurs qui sont aussi joueurs ?\n",
    "10. Quels sont les sportifs qui sont des conseillers ?\n",
    "11. Pour le sportif \"Kervadec\" quel est le nom de son conseiller ?\n",
    "12. Quels entraîneurs entraînent du hand ball et du basket ball ?\n",
    "14. Quelle est la moyenne d'âge des sportives qui pratiquent du basket ball ?\n",
    "16. Quels sont les gymnases de \"Stains\" ou de \"Montmorency\" qui ont la plus grande surface ?\n",
    "17. Quels entraîneurs n'entraînent que du hand ball ou du basket ball ?\n",
    "19. Quels sportifs n'ont pas de conseillers ?\n",
    "20. Pour chaque sportif donner le nombre de sports qu'il arbitre\n",
    "22. Pour chaque entraîneurs de hand ball quel est le nombre de séances journalières qu'il assure ?\n",
    "23. Quels sont les gymnases ayant plus de 2 séances le mercredi ?\n",
    "24. Pour chaque gymnase de Montmorency : quel est le nombre de séances journalières de chaque sport propose ?\n",
    "25. Dans quels gymnases et quels jours y a t-il au moins 3 séances de volley ball dans la journée ?\n",
    "\n",
    "### Restaurants new-yorkais\n",
    "\n",
    "Dans la base de données `test`, nous disposons d'une collection contenant les informations de plus de 25000 restaurants new-yorkais. Pour chaque restaurant, nous avons des informations basiques (nom, quartier, adresse, type de cuisine) et l'ensemble des visites sanitaires (dans le champs `grade`). Pour chaque visite, nous avons une date, un grade (A : restaurant sain, B : problèmes sanitaires à revoir rapidement, ...) et un score (nombre d'infractions sanitaires : plus il est élevé, moins le restaurant respecte les consignes - s'il est égal à -1, c'est qu'il n'y a sûrement pas encore eu de visite)."
   ]
  },
  {
   "cell_type": "code",
   "execution_count": 49,
   "metadata": {},
   "outputs": [
    {
     "data": {
      "text/plain": [
       "['restaurants', 'test', 'grades']"
      ]
     },
     "execution_count": 49,
     "metadata": {},
     "output_type": "execute_result"
    }
   ],
   "source": [
    "db2 = con.test\n",
    "db2.list_collection_names()"
   ]
  },
  {
   "cell_type": "code",
   "execution_count": 50,
   "metadata": {},
   "outputs": [
    {
     "data": {
      "text/plain": [
       "{'_id': ObjectId('58ac16d1a251358ee4ee87dd'),\n",
       " 'address': {'building': '1007',\n",
       "  'coord': [-73.856077, 40.848447],\n",
       "  'street': 'Morris Park Ave',\n",
       "  'zipcode': '10462'},\n",
       " 'borough': 'Bronx',\n",
       " 'cuisine': 'Bakery',\n",
       " 'grades': [{'date': datetime.datetime(2014, 3, 3, 0, 0),\n",
       "   'grade': 'A',\n",
       "   'score': 2},\n",
       "  {'date': datetime.datetime(2013, 9, 11, 0, 0), 'grade': 'A', 'score': 6},\n",
       "  {'date': datetime.datetime(2013, 1, 24, 0, 0), 'grade': 'A', 'score': 10},\n",
       "  {'date': datetime.datetime(2011, 11, 23, 0, 0), 'grade': 'A', 'score': 9},\n",
       "  {'date': datetime.datetime(2011, 3, 10, 0, 0), 'grade': 'B', 'score': 14}],\n",
       " 'name': 'Morris Park Bake Shop',\n",
       " 'restaurant_id': '30075445'}"
      ]
     },
     "execution_count": 50,
     "metadata": {},
     "output_type": "execute_result"
    }
   ],
   "source": [
    "db2.restaurants.find_one()"
   ]
  },
  {
   "cell_type": "markdown",
   "metadata": {},
   "source": [
    "####  Recherche\n",
    "\n",
    "1. Lister les informations du restaurant “Cafe Henri”\n",
    "1. Lister tous les restaurants de la chaîne “Burger King” (rue, quartier)\n",
    "1. Lister les restaurants n’ayant pas de quartier connu (“Missing”)\n",
    "1. Lister les restaurants ayant eu un score de 0\n",
    "1. Lister les restaurants ayant eu un score entre 0 et 10 (inclus)\n",
    "1. Lister les restaurants qui ont le terme “Cafe” dans leur nom\n",
    "1. Lister les restaurants faisant de la cuisine de type “Pizza” dans “Brooklyn”\n",
    "\n",
    "#### Agrégat\n",
    "\n",
    "1. Quelles sont les 10 plus grandes chaines de restaurants (nom identique) ?\n",
    "1. Lister par quartier le nombre de restaurants et le score moyen \n",
    "1. Donner le Top 5 et le Flop 5 des types de cuisine, en terme de nombre de restaurants\n",
    "1. Donner les dates de début et de fin des évaluations\n",
    "1. Quels sont les 10 restaurants (nom, quartier, addresse et score) avec le plus petit score moyen ?\n",
    "1. Quels sont les restaurants (nom, quartier et addresse) avec uniquement des grades “A” ?\n",
    "1. Compter le nombre d’évaluation par jour de la semaine\n"
   ]
  },
  {
   "cell_type": "code",
   "execution_count": null,
   "metadata": {},
   "outputs": [],
   "source": []
  }
 ],
 "metadata": {
  "kernelspec": {
   "display_name": "Python 3",
   "language": "python",
   "name": "python3"
  },
  "language_info": {
   "codemirror_mode": {
    "name": "ipython",
    "version": 3
   },
   "file_extension": ".py",
   "mimetype": "text/x-python",
   "name": "python",
   "nbconvert_exporter": "python",
   "pygments_lexer": "ipython3",
   "version": "3.6.9"
  }
 },
 "nbformat": 4,
 "nbformat_minor": 2
}
