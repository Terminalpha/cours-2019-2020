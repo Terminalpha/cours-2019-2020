{
 "cells": [
  {
   "cell_type": "markdown",
   "metadata": {},
   "source": [
    "# TP 2 à rendre\n",
    "\n",
    "Rendu par mail à l'adresse <francois-xavier.jollois@u-paris.fr> \n",
    "\n",
    "- Objet : [M1 ADDM] TP noté - NOM (-> votre nom)\n",
    "- Sujet : un petit bonjour ne fait pas de mal\n",
    "- Pièce jointe : le fichier .ipynb à télécharger en cliquant sur File -> Download as -> Notebook (.ipynb)\n",
    "\n",
    "**Délai** : A rendre avant 17h le jour même\n",
    "\n",
    "Nous allons utiliser la base de données `world`, dans laquelle se trouve la collection `world`. Celle-ci est composée des pays du monde entier (vision du monde à la fin du millénaire précédent). Pour chaque pays, nous avons un certain nombre d'informations dont voici le détail. *Tous les pays n'ont pas forcément tous les champs renseignés*."
   ]
  },
  {
   "cell_type": "markdown",
   "metadata": {},
   "source": [
    "- `Code`: code du pays en 3 lettres,\n",
    "- `Name`: nom du pays,\n",
    "- `Continent`: continent,\n",
    "- `Region`: région (au sens partie d'un continent),\n",
    "- `SurfaceArea`: superficie,\n",
    "- `IndepYear`: année d'indépendance (si absent : pays dépendant d'un autre),\n",
    "- `Population`: population totale,\n",
    "- `LifeExpectancy`: espérance de vie,\n",
    "- `GNP`: PIB,\n",
    "- `GNPOld`: PIB ancien,\n",
    "- `LocalName`: nom dans la langue du pays,\n",
    "- `GovernmentForm`: type de gouvernement,\n",
    "- `HeadOfState`: personnage à la tête de l'état,\n",
    "- `Cities`: objet décrivant la capitale\n",
    "    - `Name`: nom de la capitale,\n",
    "    - `District`: province/région,\n",
    "    - `Population`: population de la ville,\n",
    "    - `capital` : `True` si c'est la capitale\n",
    "- `Code2`: code du pays en 2 lettres,\n",
    "- `Language`: tableaux de langues dans le pays\n",
    "    - `Language`: nom de la langue, \n",
    "    - `Percentage`: taux d'habitants du pays parlant cette langue,\n",
    "    - `official`: `True` si c'est une langue officielle (il peut y en avoir plusieurs)"
   ]
  },
  {
   "cell_type": "markdown",
   "metadata": {},
   "source": [
    "1. Créer une connexion vers cette collection\n",
    "1. Déterminer le nombre exact de pays\n",
    "1. Lister les différents continents \n",
    "1. Lister les informations de la France\n",
    "1. Lister les pays du continent européen (\"Europe\"), ayant une population inférieure à 100000 habitants \n",
    "1. Lister les pays indépendant du continent océanique\n",
    "1. Quel est le plus gros continent en terme de surface ? (un seul continent affiché à la fin)\n",
    "1. Donner par continents le nombre de pays, la population totale et en *bonus* le nombre de pays indépendant.\n",
    "1. Donner la population totale des villes de France \n",
    "1. Donner la capitale (uniquement nom de la ville et population) de France.\n",
    "1. Quelles sont les langues parlées dans plus de 15 pays ?\n",
    "1. Calculer pour chaque pays le nombre de villes (pour les pays ayant au moins 100 villes), en les triant par ordre décroissant du nombre de villes\n",
    "1. Lister les 10 villes les plus habitées, ainsi que leur pays, dans l'ordre décroissant de la population\n",
    "1. Lister les pays pour lesquels le français (\"French\") est une langue officielle \n",
    "1. Lister les 5 pays avec le plus de langues parlées\n",
    "1. Lister les pays pour lesquels la somme des populations des villes est supérieure à la population du pays \n",
    "    - ceci est probablement du à une erreur dans la base"
   ]
  },
  {
   "cell_type": "code",
   "execution_count": null,
   "metadata": {},
   "outputs": [],
   "source": []
  }
 ],
 "metadata": {
  "kernelspec": {
   "display_name": "Python 3",
   "language": "python",
   "name": "python3"
  },
  "language_info": {
   "codemirror_mode": {
    "name": "ipython",
    "version": 3
   },
   "file_extension": ".py",
   "mimetype": "text/x-python",
   "name": "python",
   "nbconvert_exporter": "python",
   "pygments_lexer": "ipython3",
   "version": "3.6.9"
  }
 },
 "nbformat": 4,
 "nbformat_minor": 2
}
