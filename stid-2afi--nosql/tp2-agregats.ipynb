{
 "cells": [
  {
   "cell_type": "markdown",
   "metadata": {},
   "source": [
    "## Agrégats\n",
    "\n",
    "Nous avons aussi la possibilité de calculer des agrégats, avec la fonction `aggregate()`. Celle-ci s'utilise de manière très similaire à celle de *MongoDB*.\n",
    "\n",
    "Nous recréons tout d'abord la connexion à la BD `gym` sur le serveur."
   ]
  },
  {
   "cell_type": "code",
   "execution_count": null,
   "metadata": {},
   "outputs": [],
   "source": [
    "import pymongo\n",
    "con = pymongo.MongoClient(\"mongodb://193.51.82.104:2343/\")\n",
    "db = con.gym"
   ]
  },
  {
   "cell_type": "markdown",
   "metadata": {},
   "source": [
    "Ci-dessous, nous calculons le nombre de gymnases et la surface moyenne de celle-ci. Pour ne pas mettre de critère d'agrégations, nous mettons une chaîne de caractère comme identifiant."
   ]
  },
  {
   "cell_type": "code",
   "execution_count": 26,
   "metadata": {},
   "outputs": [
    {
     "name": "stdout",
     "output_type": "stream",
     "text": [
      "[{'_id': 'Total', 'nb': 28, 'surfmoy': 444.2857142857143}]\n"
     ]
    }
   ],
   "source": [
    "res = db.Gymnases.aggregate([ \n",
    "    { \"$group\": { \"_id\": \"Total\", \"nb\": { \"$sum\": 1 }, \"surfmoy\": { \"$avg\": \"$Surface\" }}}\n",
    "])\n",
    "affiche(res)"
   ]
  },
  {
   "cell_type": "markdown",
   "metadata": {},
   "source": [
    "Pour faire une agrégation sur un critère, on indique le champs toujours avec le symbole `\"$\"` devant. Nous avons ici, pour chaque ville, le nombre de gymnases et des statistiques simples sur la surface de ceux-ci (totale, moyenne, minimum et maximum)."
   ]
  },
  {
   "cell_type": "code",
   "execution_count": 27,
   "metadata": {},
   "outputs": [
    {
     "name": "stdout",
     "output_type": "stream",
     "text": [
      "[{'_id': 'SAINT DENIS',\n",
      "  'nb': 3,\n",
      "  'surfaceMaximum': 520,\n",
      "  'surfaceMinimum': 450,\n",
      "  'surfaceMoyenne': 490.0,\n",
      "  'surfaceTotale': 1470},\n",
      " {'_id': 'STAINS',\n",
      "  'nb': 6,\n",
      "  'surfaceMaximum': 400,\n",
      "  'surfaceMinimum': 200,\n",
      "  'surfaceMoyenne': 333.3333333333333,\n",
      "  'surfaceTotale': 2000},\n",
      " {'_id': 'MONTMORENCY',\n",
      "  'nb': 5,\n",
      "  'surfaceMaximum': 500,\n",
      "  'surfaceMinimum': 420,\n",
      "  'surfaceMoyenne': 470.0,\n",
      "  'surfaceTotale': 2350},\n",
      " {'_id': 'GARGES',\n",
      "  'nb': 1,\n",
      "  'surfaceMaximum': 400,\n",
      "  'surfaceMinimum': 400,\n",
      "  'surfaceMoyenne': 400.0,\n",
      "  'surfaceTotale': 400},\n",
      " {'_id': 'VILLETANEUSE',\n",
      "  'nb': 3,\n",
      "  'surfaceMaximum': 620,\n",
      "  'surfaceMinimum': 350,\n",
      "  'surfaceMoyenne': 523.3333333333334,\n",
      "  'surfaceTotale': 1570},\n",
      " {'_id': 'PIERREFITTE',\n",
      "  'nb': 5,\n",
      "  'surfaceMaximum': 450,\n",
      "  'surfaceMinimum': 300,\n",
      "  'surfaceMoyenne': 382.0,\n",
      "  'surfaceTotale': 1910},\n",
      " {'_id': 'SARCELLES',\n",
      "  'nb': 5,\n",
      "  'surfaceMaximum': 620,\n",
      "  'surfaceMinimum': 400,\n",
      "  'surfaceMoyenne': 548.0,\n",
      "  'surfaceTotale': 2740}]\n"
     ]
    }
   ],
   "source": [
    "res = db.Gymnases.aggregate([ \n",
    "    { \"$group\": { \n",
    "        \"_id\": \"$Ville\", \n",
    "        \"nb\": { \"$sum\": 1 }, \n",
    "        \"surfaceTotale\": { \"$sum\": \"$Surface\" },\n",
    "        \"surfaceMoyenne\": { \"$avg\": \"$Surface\" },\n",
    "        \"surfaceMinimum\": { \"$min\": \"$Surface\" },\n",
    "        \"surfaceMaximum\": { \"$max\": \"$Surface\" }\n",
    "    }}\n",
    "])\n",
    "affiche(res)"
   ]
  },
  {
   "cell_type": "markdown",
   "metadata": {},
   "source": [
    "Et comme dans *MongoDB*, on peut utiliser les commandes `unwind`, `project` et `sort` pour réaliser des calculs d'agrégats complexes. Ici, nous cherchons le nombre total de séances par jour, ceux-ci étant triés dans l'ordre décroissant du nombre de séances."
   ]
  },
  {
   "cell_type": "code",
   "execution_count": 28,
   "metadata": {},
   "outputs": [
    {
     "name": "stdout",
     "output_type": "stream",
     "text": [
      "[{'_id': 'lundi', 'nb': 23},\n",
      " {'_id': 'dimanche', 'nb': 17},\n",
      " {'_id': 'mercredi', 'nb': 13},\n",
      " {'_id': 'samedi', 'nb': 9},\n",
      " {'_id': 'mardi', 'nb': 8},\n",
      " {'_id': 'vendredi', 'nb': 6},\n",
      " {'_id': 'jeudi', 'nb': 6}]\n"
     ]
    }
   ],
   "source": [
    "res = db.Gymnases.aggregate([\n",
    "    { \"$unwind\": \"$Seances\" }, \n",
    "    { \"$project\": { \"Jour\": { \"$toLower\": \"$Seances.Jour\" } }},\n",
    "    { \"$group\": { \"_id\": \"$Jour\", \"nb\": { \"$sum\": 1 }} },\n",
    "    { \"$sort\": { \"nb\": -1 }}\n",
    "])\n",
    "affiche(res)"
   ]
  }
 ],
 "metadata": {
  "kernelspec": {
   "display_name": "Python 3",
   "language": "python",
   "name": "python3"
  },
  "language_info": {
   "codemirror_mode": {
    "name": "ipython",
    "version": 3
   },
   "file_extension": ".py",
   "mimetype": "text/x-python",
   "name": "python",
   "nbconvert_exporter": "python",
   "pygments_lexer": "ipython3",
   "version": "3.6.8"
  }
 },
 "nbformat": 4,
 "nbformat_minor": 2
}
